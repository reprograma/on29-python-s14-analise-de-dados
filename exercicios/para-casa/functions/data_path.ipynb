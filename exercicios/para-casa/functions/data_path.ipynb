{
 "cells": [
  {
   "cell_type": "code",
   "execution_count": 1,
   "metadata": {},
   "outputs": [],
   "source": [
    "file_path_sellers = 'dados_olist/olist_sellers_dataset.csv'\n",
    "file_path_products = 'dados_olist/olist_products_dataset.csv'\n",
    "file_path_orders = 'dados_olist/olist_orders_dataset.csv'\n",
    "file_path_order_reviwes = 'dados_olist/olist_order_reviews_dataset.csv'\n",
    "file_path_payments = 'dados_olist/olist_order_payments_dataset.csv'\n",
    "file_path_items = 'dados_olist/olist_order_items_dataset.csv'\n",
    "file_path_geolocation = 'dados_olist/olist_geolocation_dataset.csv'\n",
    "file_path_custumers = 'dados_olist/olist_customers_dataset.csv'\n"
   ]
  }
 ],
 "metadata": {
  "kernelspec": {
   "display_name": "Python 3",
   "language": "python",
   "name": "python3"
  },
  "language_info": {
   "codemirror_mode": {
    "name": "ipython",
    "version": 3
   },
   "file_extension": ".py",
   "mimetype": "text/x-python",
   "name": "python",
   "nbconvert_exporter": "python",
   "pygments_lexer": "ipython3",
   "version": "3.12.2"
  }
 },
 "nbformat": 4,
 "nbformat_minor": 2
}
