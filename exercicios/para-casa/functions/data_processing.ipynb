{
 "cells": [
  {
   "cell_type": "code",
   "execution_count": 2,
   "metadata": {},
   "outputs": [],
   "source": [
    "import pandas as pd"
   ]
  },
  {
   "cell_type": "code",
   "execution_count": 4,
   "metadata": {},
   "outputs": [],
   "source": [
    "def data_cleansing(df_generic, columns_drop, null):\n",
    "\n",
    "    df_generic = df_generic.drop(columns_drop, axis=1)\n",
    "    if null == False:\n",
    "       df_generic =  df_generic.dropna()\n",
    "       df_generic = df_generic.reset_index(drop=True)\n",
    "    \n",
    "    return df_generic\n"
   ]
  },
  {
   "cell_type": "code",
   "execution_count": 4,
   "metadata": {},
   "outputs": [],
   "source": [
    "def date_type (df_generic):\n",
    "\n",
    "    date_columns = []\n",
    "\n",
    "    for col in df_generic:\n",
    "        if df_generic[col].dtype == 'object':\n",
    "            try:\n",
    "                df_generic[col] = pd.to_datetime(df_generic[col], errors= 'raise')\n",
    "                date_columns.append(col)\n",
    "                \n",
    "            except (ValueError,TypeError):\n",
    "\n",
    "                continue\n",
    "    \n",
    "    return date_columns\n"
   ]
  }
 ],
 "metadata": {
  "kernelspec": {
   "display_name": "Python 3",
   "language": "python",
   "name": "python3"
  },
  "language_info": {
   "codemirror_mode": {
    "name": "ipython",
    "version": 3
   },
   "file_extension": ".py",
   "mimetype": "text/x-python",
   "name": "python",
   "nbconvert_exporter": "python",
   "pygments_lexer": "ipython3",
   "version": "3.12.2"
  }
 },
 "nbformat": 4,
 "nbformat_minor": 2
}
