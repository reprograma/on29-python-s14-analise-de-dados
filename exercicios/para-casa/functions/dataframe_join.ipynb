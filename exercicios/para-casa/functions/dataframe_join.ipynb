{
 "cells": [
  {
   "cell_type": "code",
   "execution_count": 3,
   "metadata": {},
   "outputs": [],
   "source": [
    "import pandas as pd\n"
   ]
  },
  {
   "cell_type": "code",
   "execution_count": 14,
   "metadata": {},
   "outputs": [],
   "source": [
    "def join(df_generic_1, df_generic_2,key,join_type):\n",
    "\n",
    "    if join_type == 1:\n",
    "        df_generic_result = pd.merge(df_generic_1, df_generic_2, on=key, how='inner')\n",
    "    elif join_type == 2:\n",
    "        df_generic_result = pd.merge(df_generic_1, df_generic_2, on=key, how='left')\n",
    "    elif join_type == 3:\n",
    "        df_generic_result = pd.merge(df_generic_1, df_generic_2, on=key, how='right')\n",
    "    elif join_type == 4:\n",
    "        df_generic_result = pd.merge(df_generic_1, df_generic_2, on=key, how='outer')\n",
    "    else:\n",
    "        print(\"Opção inválida.\")\n",
    "\n",
    "    return df_generic_result\n"
   ]
  }
 ],
 "metadata": {
  "kernelspec": {
   "display_name": "Python 3",
   "language": "python",
   "name": "python3"
  },
  "language_info": {
   "codemirror_mode": {
    "name": "ipython",
    "version": 3
   },
   "file_extension": ".py",
   "mimetype": "text/x-python",
   "name": "python",
   "nbconvert_exporter": "python",
   "pygments_lexer": "ipython3",
   "version": "3.12.2"
  }
 },
 "nbformat": 4,
 "nbformat_minor": 2
}
